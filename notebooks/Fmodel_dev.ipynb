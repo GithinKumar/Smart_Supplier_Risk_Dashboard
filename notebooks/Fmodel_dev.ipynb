{
 "cells": [
  {
   "cell_type": "code",
   "execution_count": 1,
   "id": "49dd6e73",
   "metadata": {},
   "outputs": [],
   "source": [
    "import sys\n",
    "import os\n",
    "sys.path.append(os.path.abspath(os.path.join(os.getcwd(), '..', 'src')))\n",
    "from Fmodel import calculate_financial_risk_scores\n",
    "financial_data_path = '../data/2.supplier_financials_dataset.csv'\n",
    "risk_scores_df = calculate_financial_risk_scores(financial_data_path)\n",
    "risk_scores_df.head()\n",
    "risk_scores_df.to_csv('../data/5.supplier_financial_risk_score.csv', index=False)"
   ]
  }
 ],
 "metadata": {
  "kernelspec": {
   "display_name": ".venv (3.13.5)",
   "language": "python",
   "name": "python3"
  },
  "language_info": {
   "codemirror_mode": {
    "name": "ipython",
    "version": 3
   },
   "file_extension": ".py",
   "mimetype": "text/x-python",
   "name": "python",
   "nbconvert_exporter": "python",
   "pygments_lexer": "ipython3",
   "version": "3.13.5"
  }
 },
 "nbformat": 4,
 "nbformat_minor": 5
}
