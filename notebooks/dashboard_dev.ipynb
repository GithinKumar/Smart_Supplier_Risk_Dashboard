{
 "cells": [
  {
   "cell_type": "code",
   "execution_count": null,
   "id": "7cacbf48",
   "metadata": {},
   "outputs": [
    {
     "name": "stdout",
     "output_type": "stream",
     "text": [
      "/Users/githinkumar/Downloads/SRA\n",
      "\u001b[0m\n",
      "\u001b[34m\u001b[1m  You can now view your Streamlit app in your browser.\u001b[0m\n",
      "\u001b[0m\n",
      "\u001b[34m  Local URL: \u001b[0m\u001b[1mhttp://localhost:8502\u001b[0m\n",
      "\u001b[34m  Network URL: \u001b[0m\u001b[1mhttp://192.168.70.37:8502\u001b[0m\n",
      "\u001b[0m\n",
      "\u001b[34m\u001b[1m  For better performance, install the Watchdog module:\u001b[0m\n",
      "\n",
      "  $ xcode-select --install\n",
      "  $ pip install watchdog\n",
      "            \u001b[0m\n",
      "2025-07-24 15:32:45.845 Uncaught app execution\n",
      "Traceback (most recent call last):\n",
      "  File \"/Users/githinkumar/Downloads/SRA/.venv/lib/python3.13/site-packages/streamlit/runtime/scriptrunner/exec_code.py\", line 128, in exec_func_with_error_handling\n",
      "    result = func()\n",
      "  File \"/Users/githinkumar/Downloads/SRA/.venv/lib/python3.13/site-packages/streamlit/runtime/scriptrunner/script_runner.py\", line 669, in code_to_exec\n",
      "    exec(code, module.__dict__)  # noqa: S102\n",
      "    ~~~~^^^^^^^^^^^^^^^^^^^^^^^\n",
      "  File \"/Users/githinkumar/Downloads/SRA/src/dashboard.py\", line 7, in <module>\n",
      "    from AI_Chatbot import initialize_chat_history, process_user_question\n",
      "  File \"/Users/githinkumar/Downloads/SRA/src/AI_Chatbot.py\", line 8, in <module>\n",
      "    client = Groq(\n",
      "        api_key=os.environ.get(\"GROQ_API_KEY\")\n",
      "    )\n",
      "  File \"/Users/githinkumar/Downloads/SRA/.venv/lib/python3.13/site-packages/groq/_client.py\", line 79, in __init__\n",
      "    raise GroqError(\n",
      "        \"The api_key client option must be set either by passing api_key to the client or by setting the GROQ_API_KEY environment variable\"\n",
      "    )\n",
      "groq.GroqError: The api_key client option must be set either by passing api_key to the client or by setting the GROQ_API_KEY environment variable\n"
     ]
    }
   ],
   "source": [
    "# Import OS for shell commands\n",
    "import os\n",
    "\n",
    "# Optional: change directory if needed\n",
    "# os.chdir(\"/path/to/your/project/folder\")\n",
    "\n",
    "# Run the Streamlit app from notebook\n",
    "%cd /Users/githinkumar/Downloads/SRA\n",
    "!streamlit run src/dashboard.py\n"
   ]
  }
 ],
 "metadata": {
  "kernelspec": {
   "display_name": ".venv (3.13.5)",
   "language": "python",
   "name": "python3"
  },
  "language_info": {
   "codemirror_mode": {
    "name": "ipython",
    "version": 3
   },
   "file_extension": ".py",
   "mimetype": "text/x-python",
   "name": "python",
   "nbconvert_exporter": "python",
   "pygments_lexer": "ipython3",
   "version": "3.13.5"
  }
 },
 "nbformat": 4,
 "nbformat_minor": 5
}
