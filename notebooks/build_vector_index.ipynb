{
 "cells": [
  {
   "cell_type": "code",
   "execution_count": 1,
   "id": "11505dd1",
   "metadata": {},
   "outputs": [
    {
     "name": "stderr",
     "output_type": "stream",
     "text": [
      "/var/folders/25/fxgdkpxj3kvgks19ts3_hml80000gn/T/ipykernel_92847/1011831632.py:7: LangChainDeprecationWarning: The class `HuggingFaceEmbeddings` was deprecated in LangChain 0.2.2 and will be removed in 1.0. An updated version of the class exists in the :class:`~langchain-huggingface package and should be used instead. To use it run `pip install -U :class:`~langchain-huggingface` and import as `from :class:`~langchain_huggingface import HuggingFaceEmbeddings``.\n",
      "  embed_model = HuggingFaceEmbeddings(model_name=\"all-MiniLM-L6-v2\")\n"
     ]
    },
    {
     "name": "stdout",
     "output_type": "stream",
     "text": [
      "Loaded 141 chunks from file.\n",
      "Loaded 141 documents for indexing.\n",
      "Index built successfully!\n",
      "Index persisted at: ../Data/llama_index_storage\n",
      "Loading llama_index.core.storage.kvstore.simple_kvstore from ../Data/llama_index_storage/docstore.json.\n",
      "Loading llama_index.core.storage.kvstore.simple_kvstore from ../Data/llama_index_storage/index_store.json.\n",
      "Index loaded from storage.\n",
      "Index built successfully (using local embeddings)!\n"
     ]
    }
   ],
   "source": [
    "from langchain.embeddings import HuggingFaceEmbeddings\n",
    "from langchain.embeddings import HuggingFaceEmbeddings\n",
    "from llama_index.core import Document, VectorStoreIndex\n",
    "import os\n",
    "\n",
    "\n",
    "embed_model = HuggingFaceEmbeddings(model_name=\"all-MiniLM-L6-v2\")\n",
    "\n",
    "# Load the chunks from the saved file\n",
    "with open(\"../Data/all_metadata_chunks.txt\", \"r\") as f:\n",
    "    chunks = [line.strip() for line in f if line.strip()]\n",
    "print(f\"Loaded {len(chunks)} chunks from file.\")\n",
    "\n",
    "# Convert to LlamaIndex docs\n",
    "documents = [Document(text=chunk) for chunk in chunks]\n",
    "print(f\"Loaded {len(documents)} documents for indexing.\")\n",
    "\n",
    "#Build the index\n",
    "index = VectorStoreIndex.from_documents(documents, embed_model=embed_model)\n",
    "print(\"Index built successfully!\")\n",
    "\n",
    "#Build the index\n",
    "index_storage_path = \"../Data/llama_index_storage\"\n",
    "index.storage_context.persist(persist_dir=index_storage_path)\n",
    "print(f\"Index persisted at: {index_storage_path}\")\n",
    "\n",
    "#Reload index example\n",
    "from llama_index.core import StorageContext, load_index_from_storage\n",
    "storage_context = StorageContext.from_defaults(persist_dir=index_storage_path)\n",
    "index = load_index_from_storage(storage_context, embed_model=embed_model)\n",
    "print(\"Index loaded from storage.\")\n",
    "\n",
    "documents = [Document(text=chunk) for chunk in chunks]\n",
    "index = VectorStoreIndex.from_documents(documents, embed_model=embed_model)\n",
    "print(\"Index built successfully (using local embeddings)!\")\n",
    "# Save to disk\n",
    "index.storage_context.persist(persist_dir=\"../Data/llama_index_storage\")"
   ]
  }
 ],
 "metadata": {
  "kernelspec": {
   "display_name": ".venv",
   "language": "python",
   "name": "python3"
  },
  "language_info": {
   "codemirror_mode": {
    "name": "ipython",
    "version": 3
   },
   "file_extension": ".py",
   "mimetype": "text/x-python",
   "name": "python",
   "nbconvert_exporter": "python",
   "pygments_lexer": "ipython3",
   "version": "3.13.5"
  }
 },
 "nbformat": 4,
 "nbformat_minor": 5
}
