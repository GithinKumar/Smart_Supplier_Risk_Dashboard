{
 "cells": [
  {
   "cell_type": "code",
   "execution_count": 1,
   "id": "6cd7febe",
   "metadata": {},
   "outputs": [
    {
     "name": "stdout",
     "output_type": "stream",
     "text": [
      "Supplier scores saved to ../data/6.supplier_score_final.csv\n"
     ]
    }
   ],
   "source": [
    "import sys\n",
    "import os\n",
    "\n",
    "sys.path.append(os.path.abspath('../src'))\n",
    "\n",
    "# Import the scoring function\n",
    "from supplier_score_model import generate_supplier_score\n",
    "\n",
    "# Call the function with appropriate file paths\n",
    "generate_supplier_score(\n",
    "    overview_path='../data/4.supplier_overview.csv',\n",
    "    financial_score_path='../data/5.supplier_financial_risk_score.csv',\n",
    "    master_data_path='../data/1.supplier_master_dataset.csv',\n",
    "    output_path='../data/6.supplier_score_final.csv'\n",
    ")"
   ]
  }
 ],
 "metadata": {
  "kernelspec": {
   "display_name": ".venv (3.13.5)",
   "language": "python",
   "name": "python3"
  },
  "language_info": {
   "codemirror_mode": {
    "name": "ipython",
    "version": 3
   },
   "file_extension": ".py",
   "mimetype": "text/x-python",
   "name": "python",
   "nbconvert_exporter": "python",
   "pygments_lexer": "ipython3",
   "version": "3.13.5"
  }
 },
 "nbformat": 4,
 "nbformat_minor": 5
}
